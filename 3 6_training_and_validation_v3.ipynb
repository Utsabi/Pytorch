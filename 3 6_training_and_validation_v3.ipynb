{
 "cells": [
  {
   "cell_type": "markdown",
   "metadata": {},
   "source": [
    "<p style=\"text-align:center\">\n",
    "    <a href=\"https://skills.network\" target=\"_blank\">\n",
    "    <img src=\"https://cf-courses-data.s3.us.cloud-object-storage.appdomain.cloud/assets/logos/SN_web_lightmode.png\" width=\"200\" alt=\"Skills Network Logo\">\n",
    "    </a>\n",
    "</p>\n"
   ]
  },
  {
   "cell_type": "markdown",
   "metadata": {},
   "source": [
    "<h1>Linear regression: Training and Validation Data</h1> \n"
   ]
  },
  {
   "cell_type": "markdown",
   "metadata": {},
   "source": [
    "<h2>Objective</h2><ul><li> How to use learning rate hyperparameter to improve your model result.  .</li></ul> \n"
   ]
  },
  {
   "cell_type": "markdown",
   "metadata": {},
   "source": [
    "<h2>Table of Contents</h2>\n",
    "<p>In this lab, you will learn to select the best learning rate by using validation data.</p>\n",
    " \n",
    "<div class=\"alert alert-block alert-info\" style=\"margin-top: 20px\">\n",
    "<font size=\"3\">\n",
    "        1. <a href=\"#Make-Some-Data\">Make Some Data</a><br>\n",
    "        2. <a href=\"#Create-a-Linear-Regression-Object-Data-Loader-and-Criterion-Function\">Create a Linear Regression Object Data Loader and Criterion Function</a><br>\n",
    "        3. <a href=\"#Different-learning-rates-and-Data-Structures-to-Store-results-for-Different-Hyperparameters\">Different learning rates and Data Structures to Store results for Different Hyperparameters</a><br>\n",
    "        4. <a href=\"#Train-different-modules-for-different-Hyperparameters\">Train different modules for different Hyperparameters</a><br>\n",
    "        5. <a href=\"#View-Results\">View Results</a><br>\n",
    "    \n",
    "<p>Estimated Time Needed: <strong>30 min</strong></p>\n",
    "</font>\n",
    "</div>\n"
   ]
  },
  {
   "cell_type": "markdown",
   "metadata": {},
   "source": [
    "<h2>Preparation</h2>\n"
   ]
  },
  {
   "cell_type": "markdown",
   "metadata": {},
   "source": [
    "We'll need the following libraries and set the random seed.\n"
   ]
  },
  {
   "cell_type": "code",
   "execution_count": 1,
   "metadata": {},
   "outputs": [],
   "source": [
    "# Import libraries we need for this lab, and set the random seed\n",
    "\n",
    "from torch import nn\n",
    "import torch\n",
    "import numpy as np\n",
    "import matplotlib.pyplot as plt\n",
    "from torch import nn,optim"
   ]
  },
  {
   "cell_type": "markdown",
   "metadata": {},
   "source": [
    "<!--Empty Space for separating topics-->\n"
   ]
  },
  {
   "cell_type": "markdown",
   "metadata": {},
   "source": [
    "<!-- <h2 id=\"Makeup_Data\">Make Some Data</h2> -->\n",
    "## Make Some Data\n"
   ]
  },
  {
   "cell_type": "markdown",
   "metadata": {},
   "source": [
    "First, we'll create some artificial data in a dataset class. The class will include the option to produce training data or validation data. The training data will include outliers.\n"
   ]
  },
  {
   "cell_type": "code",
   "execution_count": 2,
   "metadata": {},
   "outputs": [],
   "source": [
    "# Create Data class\n",
    "\n",
    "from torch.utils.data import Dataset, DataLoader\n",
    "\n",
    "class Data(Dataset):\n",
    "    \n",
    "    # Constructor\n",
    "    def __init__(self, train = True):\n",
    "            self.x = torch.arange(-3, 3, 0.1).view(-1, 1)\n",
    "            self.f = -3 * self.x + 1\n",
    "            self.y = self.f + 0.1 * torch.randn(self.x.size())\n",
    "            self.len = self.x.shape[0]\n",
    "            \n",
    "            #outliers \n",
    "            if train == True:\n",
    "                self.y[0] = 0\n",
    "                self.y[50:55] = 20\n",
    "            else:\n",
    "                pass\n",
    "      \n",
    "    # Getter\n",
    "    def __getitem__(self, index):    \n",
    "        return self.x[index], self.y[index]\n",
    "    \n",
    "    # Get Length\n",
    "    def __len__(self):\n",
    "        return self.len"
   ]
  },
  {
   "cell_type": "markdown",
   "metadata": {},
   "source": [
    "Create two objects: one that contains training data and a second that contains validation data. Assume that the training data has the outliers. \n"
   ]
  },
  {
   "cell_type": "code",
   "execution_count": 3,
   "metadata": {},
   "outputs": [],
   "source": [
    "# Create training dataset and validation dataset\n",
    "\n",
    "train_data = Data()\n",
    "val_data = Data(train = False)"
   ]
  },
  {
   "cell_type": "markdown",
   "metadata": {},
   "source": [
    "Overlay the training points in red over the function that generated the data. Notice the outliers at x=-3 and around x=2:\n"
   ]
  },
  {
   "cell_type": "code",
   "execution_count": 4,
   "metadata": {},
   "outputs": [
    {
     "data": {
      "image/png": "[encoded data removed]",
      "text/plain": [
       "<Figure size 640x480 with 1 Axes>"
      ]
     },
     "metadata": {},
     "output_type": "display_data"
    }
   ],
   "source": [
    "# Plot out training points\n",
    "\n",
    "plt.plot(train_data.x.numpy(), train_data.y.numpy(), 'xr',label=\"training data \")\n",
    "plt.plot(train_data.x.numpy(), train_data.f.numpy(),label=\"true function  \")\n",
    "plt.xlabel('x')\n",
    "plt.ylabel('y')\n",
    "plt.legend()\n",
    "plt.show()"
   ]
  },
  {
   "cell_type": "markdown",
   "metadata": {},
   "source": [
    "<!--Empty Space for separating topics-->\n"
   ]
  },
  {
   "cell_type": "markdown",
   "metadata": {},
   "source": [
    "<!-- <h2 id=\"LR_Loader_Cost\">Create a Linear Regression Object,  Data Loader, and Criterion Function</h2> -->\n",
    "## Create a Linear Regression Object Data Loader and Criterion Function\n"
   ]
  },
  {
   "cell_type": "code",
   "execution_count": 5,
   "metadata": {},
   "outputs": [],
   "source": [
    "# Create Linear Regression Class\n",
    "\n",
    "from torch import nn\n",
    "\n",
    "class linear_regression(nn.Module):\n",
    "    \n",
    "    # Constructor\n",
    "    def __init__(self, input_size, output_size):\n",
    "        super(linear_regression, self).__init__()\n",
    "        self.linear = nn.Linear(input_size, output_size)\n",
    "    \n",
    "    # Prediction function\n",
    "    def forward(self, x):\n",
    "        yhat = self.linear(x)\n",
    "        return yhat"
   ]
  },
  {
   "cell_type": "markdown",
   "metadata": {},
   "source": [
    "Create the criterion function and a <code>DataLoader</code> object: \n"
   ]
  },
  {
   "cell_type": "code",
   "execution_count": 6,
   "metadata": {},
   "outputs": [],
   "source": [
    "# Create MSELoss function and DataLoader\n",
    "\n",
    "criterion = nn.MSELoss()\n",
    "trainloader = DataLoader(dataset = train_data, batch_size = 1)"
   ]
  },
  {
   "cell_type": "markdown",
   "metadata": {},
   "source": [
    "<!--Empty Space for separating topics-->\n"
   ]
  },
  {
   "cell_type": "markdown",
   "metadata": {},
   "source": [
    "<!-- <h2 id=\"LR_Hyper\">Different learning rates and Data Structures to Store results for different Hyperparameters</h2> -->\n",
    "## Different learning rates and Data Structures to Store results for Different Hyperparameters\n"
   ]
  },
  {
   "cell_type": "markdown",
   "metadata": {},
   "source": [
    "Create a list with different learning rates and a tensor (can be a list) for the training and validating cost/total loss. Include the list MODELS, which stores the training model for every value of the learning rate. \n"
   ]
  },
  {
   "cell_type": "code",
   "execution_count": 7,
   "metadata": {},
   "outputs": [],
   "source": [
    "# Create Learning Rate list, the error lists and the MODELS list\n",
    "\n",
    "learning_rates=[0.0001, 0.001, 0.01, 0.1]\n",
    "\n",
    "train_error=torch.zeros(len(learning_rates))\n",
    "validation_error=torch.zeros(len(learning_rates))\n",
    "\n",
    "MODELS=[]"
   ]
  },
  {
   "cell_type": "markdown",
   "metadata": {},
   "source": [
    "<!--Empty Space for separating topics-->\n"
   ]
  },
  {
   "cell_type": "markdown",
   "metadata": {},
   "source": [
    "<!-- <h2 id=\"Model\">Train different models  for different Hyperparameters</h2> -->\n",
    "## Train different modules for different Hyperparameters\n"
   ]
  },
  {
   "cell_type": "markdown",
   "metadata": {},
   "source": [
    "Try different values of learning rates, perform stochastic gradient descent, and save the results on the training data and validation data. Finally, save each model in a list.\n"
   ]
  },
  {
   "cell_type": "code",
   "execution_count": 8,
   "metadata": {},
   "outputs": [],
   "source": [
    "# Define the train model function and train the model\n",
    "\n",
    "def train_model_with_lr (iter, lr_list):\n",
    "    \n",
    "    # iterate through different learning rates \n",
    "    for i, lr in enumerate(lr_list):\n",
    "        model = linear_regression(1, 1)\n",
    "        optimizer = optim.SGD(model.parameters(), lr = lr)\n",
    "        for epoch in range(iter):\n",
    "            for x, y in trainloader:\n",
    "                yhat = model(x)\n",
    "                loss = criterion(yhat, y)\n",
    "                optimizer.zero_grad()\n",
    "                loss.backward()\n",
    "                optimizer.step()\n",
    "                \n",
    "        # train data\n",
    "        Yhat = model(train_data.x)\n",
    "        train_loss = criterion(Yhat, train_data.y)\n",
    "        train_error[i] = train_loss.item()\n",
    "    \n",
    "        # validation data\n",
    "        Yhat = model(val_data.x)\n",
    "        val_loss = criterion(Yhat, val_data.y)\n",
    "        validation_error[i] = val_loss.item()\n",
    "        MODELS.append(model)\n",
    "\n",
    "train_model_with_lr(10, learning_rates)"
   ]
  },
  {
   "cell_type": "markdown",
   "metadata": {},
   "source": [
    "<!--Empty Space for separating topics-->\n"
   ]
  },
  {
   "cell_type": "markdown",
   "metadata": {},
   "source": [
    "<!-- <h2 id=\"Result\">View the Results</h2>\n",
    " -->\n",
    "## View Results\n"
   ]
  },
  {
   "cell_type": "markdown",
   "metadata": {},
   "source": [
    "Plot the training loss and validation loss for each learning rate:  \n"
   ]
  },
  {
   "cell_type": "code",
   "execution_count": 9,
   "metadata": {},
   "outputs": [
    {
     "data": {
      "image/png": "[encoded data removed]",
      "text/plain": [
       "<Figure size 640x480 with 1 Axes>"
      ]
     },
     "metadata": {},
     "output_type": "display_data"
    }
   ],
   "source": [
    "# Plot the training loss and validation loss\n",
    "\n",
    "plt.semilogx(np.array(learning_rates), train_error.numpy(), label = 'training loss/total Loss')\n",
    "plt.semilogx(np.array(learning_rates), validation_error.numpy(), label = 'validation cost/total Loss')\n",
    "plt.ylabel('Cost\\ Total Loss')\n",
    "plt.xlabel('learning rate')\n",
    "plt.legend()\n",
    "plt.show()"
   ]
  },
  {
   "cell_type": "markdown",
   "metadata": {},
   "source": [
    "Produce a prediction by using the validation data for each model:  \n"
   ]
  },
  {
   "cell_type": "code",
   "execution_count": 10,
   "metadata": {},
   "outputs": [
    {
     "name": "stdout",
     "output_type": "stream",
     "text": [
      "0 [[2.5491862]\n",
      " [2.4744654]\n",
      " [2.3997445]]\n",
      "1 [[5.7960377]\n",
      " [5.6767616]\n",
      " [5.5574856]]\n",
      "2 [[6.598794 ]\n",
      " [6.464626 ]\n",
      " [6.3304567]]\n",
      "3 [[14.274992]\n",
      " [13.846986]\n",
      " [13.418979]]\n"
     ]
    },
    {
     "data": {
      "image/png": "[encoded data removed]",
      "text/plain": [
       "<Figure size 640x480 with 1 Axes>"
      ]
     },
     "metadata": {},
     "output_type": "display_data"
    }
   ],
   "source": [
    "# Plot the predictions\n",
    "\n",
    "i = 0\n",
    "for model, learning_rate in zip(MODELS, learning_rates):\n",
    "    yhat = model(val_data.x)\n",
    "    plt.plot(val_data.x.numpy(), yhat.detach().numpy(), label = 'lr:' + str(learning_rate))\n",
    "    print(i, yhat.detach().numpy()[0:3])\n",
    "    i+=1\n",
    "plt.plot(val_data.x.numpy(), val_data.f.numpy(), 'or', label = 'validation data')\n",
    "plt.xlabel('x')\n",
    "plt.ylabel('y')\n",
    "plt.legend()\n",
    "plt.show()"
   ]
  },
  {
   "cell_type": "markdown",
   "metadata": {},
   "source": [
    "<!--Empty Space for separating topics-->\n"
   ]
  },
  {
   "cell_type": "markdown",
   "metadata": {},
   "source": [
    "<h3>Practice</h3>\n"
   ]
  },
  {
   "cell_type": "markdown",
   "metadata": {},
   "source": [
    "The object <code>good_model</code> is the best performing model. Use the train loader to get the data samples x and y. Produce an estimate for <code>yhat</code> and print it out for every sample in a for a loop. Compare it to the actual prediction <code>y</code>.\n"
   ]
  },
  {
   "cell_type": "code",
   "execution_count": 12,
   "metadata": {},
   "outputs": [
    {
     "name": "stdout",
     "output_type": "stream",
     "text": [
      "yhat=  tensor([[14.2750]], grad_fn=<AddmmBackward0>) y tensor([[0.]])\n",
      "yhat=  tensor([[13.8470]], grad_fn=<AddmmBackward0>) y tensor([[9.7019]])\n",
      "yhat=  tensor([[13.4190]], grad_fn=<AddmmBackward0>) y tensor([[9.4778]])\n",
      "yhat=  tensor([[12.9910]], grad_fn=<AddmmBackward0>) y tensor([[9.0679]])\n",
      "yhat=  tensor([[12.5630]], grad_fn=<AddmmBackward0>) y tensor([[8.8454]])\n",
      "yhat=  tensor([[12.1350]], grad_fn=<AddmmBackward0>) y tensor([[8.5194]])\n",
      "yhat=  tensor([[11.7070]], grad_fn=<AddmmBackward0>) y tensor([[8.2671]])\n",
      "yhat=  tensor([[11.2789]], grad_fn=<AddmmBackward0>) y tensor([[7.9638]])\n",
      "yhat=  tensor([[10.8509]], grad_fn=<AddmmBackward0>) y tensor([[7.6239]])\n",
      "yhat=  tensor([[10.4229]], grad_fn=<AddmmBackward0>) y tensor([[7.3820]])\n",
      "yhat=  tensor([[9.9949]], grad_fn=<AddmmBackward0>) y tensor([[7.0817]])\n",
      "yhat=  tensor([[9.5669]], grad_fn=<AddmmBackward0>) y tensor([[6.7306]])\n",
      "yhat=  tensor([[9.1389]], grad_fn=<AddmmBackward0>) y tensor([[6.2902]])\n",
      "yhat=  tensor([[8.7109]], grad_fn=<AddmmBackward0>) y tensor([[6.0590]])\n",
      "yhat=  tensor([[8.2829]], grad_fn=<AddmmBackward0>) y tensor([[5.5504]])\n",
      "yhat=  tensor([[7.8549]], grad_fn=<AddmmBackward0>) y tensor([[5.5232]])\n",
      "yhat=  tensor([[7.4269]], grad_fn=<AddmmBackward0>) y tensor([[5.1909]])\n",
      "yhat=  tensor([[6.9989]], grad_fn=<AddmmBackward0>) y tensor([[4.8492]])\n",
      "yhat=  tensor([[6.5709]], grad_fn=<AddmmBackward0>) y tensor([[4.6492]])\n",
      "yhat=  tensor([[6.1429]], grad_fn=<AddmmBackward0>) y tensor([[4.3455]])\n",
      "yhat=  tensor([[5.7149]], grad_fn=<AddmmBackward0>) y tensor([[4.0729]])\n",
      "yhat=  tensor([[5.2869]], grad_fn=<AddmmBackward0>) y tensor([[3.7898]])\n",
      "yhat=  tensor([[4.8588]], grad_fn=<AddmmBackward0>) y tensor([[3.5908]])\n",
      "yhat=  tensor([[4.4308]], grad_fn=<AddmmBackward0>) y tensor([[3.1908]])\n",
      "yhat=  tensor([[4.0028]], grad_fn=<AddmmBackward0>) y tensor([[2.6297]])\n",
      "yhat=  tensor([[3.5748]], grad_fn=<AddmmBackward0>) y tensor([[2.4462]])\n",
      "yhat=  tensor([[3.1468]], grad_fn=<AddmmBackward0>) y tensor([[2.2899]])\n",
      "yhat=  tensor([[2.7188]], grad_fn=<AddmmBackward0>) y tensor([[1.8724]])\n",
      "yhat=  tensor([[2.2908]], grad_fn=<AddmmBackward0>) y tensor([[1.5659]])\n",
      "yhat=  tensor([[1.8628]], grad_fn=<AddmmBackward0>) y tensor([[1.4355]])\n",
      "yhat=  tensor([[1.4348]], grad_fn=<AddmmBackward0>) y tensor([[0.9222]])\n",
      "yhat=  tensor([[1.0068]], grad_fn=<AddmmBackward0>) y tensor([[0.7813]])\n",
      "yhat=  tensor([[0.5788]], grad_fn=<AddmmBackward0>) y tensor([[0.4348]])\n",
      "yhat=  tensor([[0.1508]], grad_fn=<AddmmBackward0>) y tensor([[0.0679]])\n",
      "yhat=  tensor([[-0.2772]], grad_fn=<AddmmBackward0>) y tensor([[-0.1363]])\n",
      "yhat=  tensor([[-0.7052]], grad_fn=<AddmmBackward0>) y tensor([[-0.4772]])\n",
      "yhat=  tensor([[-1.1332]], grad_fn=<AddmmBackward0>) y tensor([[-0.8745]])\n",
      "yhat=  tensor([[-1.5613]], grad_fn=<AddmmBackward0>) y tensor([[-1.3366]])\n",
      "yhat=  tensor([[-1.9893]], grad_fn=<AddmmBackward0>) y tensor([[-1.4907]])\n",
      "yhat=  tensor([[-2.4173]], grad_fn=<AddmmBackward0>) y tensor([[-1.7473]])\n",
      "yhat=  tensor([[-2.8453]], grad_fn=<AddmmBackward0>) y tensor([[-2.0201]])\n",
      "yhat=  tensor([[-3.2733]], grad_fn=<AddmmBackward0>) y tensor([[-2.1340]])\n",
      "yhat=  tensor([[-3.7013]], grad_fn=<AddmmBackward0>) y tensor([[-2.6294]])\n",
      "yhat=  tensor([[-4.1293]], grad_fn=<AddmmBackward0>) y tensor([[-3.0068]])\n",
      "yhat=  tensor([[-4.5573]], grad_fn=<AddmmBackward0>) y tensor([[-3.1693]])\n",
      "yhat=  tensor([[-4.9853]], grad_fn=<AddmmBackward0>) y tensor([[-3.6599]])\n",
      "yhat=  tensor([[-5.4133]], grad_fn=<AddmmBackward0>) y tensor([[-3.9018]])\n",
      "yhat=  tensor([[-5.8413]], grad_fn=<AddmmBackward0>) y tensor([[-4.2183]])\n",
      "yhat=  tensor([[-6.2693]], grad_fn=<AddmmBackward0>) y tensor([[-4.3131]])\n",
      "yhat=  tensor([[-6.6973]], grad_fn=<AddmmBackward0>) y tensor([[-4.5791]])\n",
      "yhat=  tensor([[-7.1253]], grad_fn=<AddmmBackward0>) y tensor([[20.]])\n",
      "yhat=  tensor([[-7.5533]], grad_fn=<AddmmBackward0>) y tensor([[20.]])\n",
      "yhat=  tensor([[-7.9813]], grad_fn=<AddmmBackward0>) y tensor([[20.]])\n",
      "yhat=  tensor([[-8.4094]], grad_fn=<AddmmBackward0>) y tensor([[20.]])\n",
      "yhat=  tensor([[-8.8374]], grad_fn=<AddmmBackward0>) y tensor([[20.]])\n",
      "yhat=  tensor([[-9.2654]], grad_fn=<AddmmBackward0>) y tensor([[-6.4065]])\n",
      "yhat=  tensor([[-9.6934]], grad_fn=<AddmmBackward0>) y tensor([[-6.7471]])\n",
      "yhat=  tensor([[-10.1214]], grad_fn=<AddmmBackward0>) y tensor([[-7.0530]])\n",
      "yhat=  tensor([[-10.5494]], grad_fn=<AddmmBackward0>) y tensor([[-7.4400]])\n",
      "yhat=  tensor([[-10.9774]], grad_fn=<AddmmBackward0>) y tensor([[-7.7048]])\n"
     ]
    }
   ],
   "source": [
    "good_model = MODELS[np.argmin(validation_error)]\n",
    "\n",
    "#Type your code here: \n",
    "\n",
    "for x,y in trainloader:\n",
    "    print(\"yhat= \",model(x),\"y\",y)"
   ]
  },
  {
   "cell_type": "markdown",
   "metadata": {},
   "source": [
    "Double-click <b>here</b> for the solution.\n",
    "\n",
    "<!-- \n",
    "for x, y in trainloader:\n",
    "    print(\"yhat= \", model(x),\"y\", y)\n",
    "-->\n"
   ]
  },
  {
   "cell_type": "markdown",
   "metadata": {},
   "source": [
    "\n",
    "\n",
    "<a href=\"https://dataplatform.cloud.ibm.com/registration/stepone?utm_source=skills_network&utm_content=in_lab_content_link&utm_id=Lab-IBMDeveloperSkillsNetwork-DL0110EN-SkillsNetwork&context=cpdaas&apps=data_science_experience%2Cwatson_machine_learning\"><img src=\"https://cf-courses-data.s3.us.cloud-object-storage.appdomain.cloud/IBMDeveloperSkillsNetwork-DL0110EN-SkillsNetwork/Template/module%201/images/Watson_Studio.png\"></a>\n"
   ]
  },
  {
   "cell_type": "markdown",
   "metadata": {},
   "source": [
    "<!--Empty Space for separating topics-->\n"
   ]
  },
  {
   "cell_type": "markdown",
   "metadata": {},
   "source": [
    "<h2>About the Authors:</h2> \n",
    "\n",
    "<a href=\"https://www.linkedin.com/in/joseph-s-50398b136/\">Joseph Santarcangelo</a> has a PhD in Electrical Engineering, his research focused on using machine learning, signal processing, and computer vision to determine how videos impact human cognition. Joseph has been working for IBM since he completed his PhD. \n"
   ]
  },
  {
   "cell_type": "markdown",
   "metadata": {},
   "source": [
    "Other contributors: <a href=\"https://www.linkedin.com/in/michelleccarey/\">Michelle Carey</a>, <a href=\"https://www.linkedin.com/in/jiahui-mavis-zhou-a4537814a/\">Mavis Zhou</a>\n"
   ]
  },
  {
   "cell_type": "markdown",
   "metadata": {},
   "source": [
    "<!--\n",
    "## Change Log\n",
    "\n",
    "|  Date (YYYY-MM-DD) |  Version | Changed By  |  Change Description |\n",
    "|---|---|---|---|\n",
    "| 2020-09-23  | 2.0  | Shubham  |  Migrated Lab to Markdown and added to course repo in GitLab |\n",
    "\n",
    "-->\n"
   ]
  },
  {
   "cell_type": "markdown",
   "metadata": {},
   "source": [
    "<hr>\n"
   ]
  },
  {
   "cell_type": "markdown",
   "metadata": {},
   "source": [
    "\n",
    "\n",
    "\n",
    "## <h3 align=\"center\"> &#169; IBM Corporation. All rights reserved. <h3/>\n"
   ]
  }
 ],
 "metadata": {
  "kernelspec": {
   "display_name": "Python",
   "language": "python",
   "name": "conda-env-python-py"
  },
  "language_info": {
   "codemirror_mode": {
    "name": "ipython",
    "version": 3
   },
   "file_extension": ".py",
   "mimetype": "text/x-python",
   "name": "python",
   "nbconvert_exporter": "python",
   "pygments_lexer": "ipython3",
   "version": "3.7.12"
  },
  "prev_pub_hash": "66fe89bc4b52d8961054dd9d19aa868bf7acc2d75fda5be07c64a3610bcc44d9"
 },
 "nbformat": 4,
 "nbformat_minor": 4
}
